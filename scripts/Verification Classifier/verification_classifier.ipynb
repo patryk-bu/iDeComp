{
 "cells": [
  {
   "cell_type": "code",
   "execution_count": null,
   "metadata": {
    "collapsed": true
   },
   "outputs": [],
   "source": [
    "import numpy as np\n",
    "import PIL\n",
    "import tensorflow as tf\n",
    "import os\n",
    "import pickle\n",
    "import matplotlib.pyplot as plt\n",
    "from tensorflow import keras\n",
    "from tensorflow.python.keras import layers\n",
    "from tensorflow.python.keras.models import Sequential\n",
    "from keras.preprocessing.image import ImageDataGenerator\n",
    "from sklearn.metrics import confusion_matrix\n",
    "\n",
    "print(tf.config.list_physical_devices(\"GPU\"))"
   ]
  },
  {
   "cell_type": "code",
   "execution_count": null,
   "outputs": [],
   "source": [
    "# hyper-parameters\n",
    "batch_size = 16\n",
    "img_size = 150\n",
    "main_epochs = 5\n",
    "fine_tune_epochs = 6\n",
    "dataset = \"crc\"\n",
    "data_path = f\"data/{dataset}/decomposed_split/inception\"\n",
    "train_path = data_path + '/train/'\n",
    "val_path = data_path + '/val/'"
   ],
   "metadata": {
    "collapsed": false
   }
  },
  {
   "cell_type": "code",
   "execution_count": null,
   "outputs": [],
   "source": [
    "# declaring functions for creating model, training, fine-tuning and testing\n",
    "def create_model(base):\n",
    "    base_model = base  # Do not include the ImageNet classifier at the top.\n",
    "    # Freeze the base_model\n",
    "    base_model.trainable = False\n",
    "    # Create new model on top\n",
    "    inputs = keras.Input(shape=(img_size, img_size, 3))\n",
    "    x = inputs\n",
    "    scale_layer = keras.layers.Rescaling(scale=1 / 127.5, offset=-1)\n",
    "    x = scale_layer(x)\n",
    "    x = base_model(x, training=False)\n",
    "    x = keras.layers.GlobalAveragePooling2D()(x)\n",
    "    x = keras.layers.Dropout(0.2)(x)  # Regularize with dropout\n",
    "    outputs = keras.layers.Dense(num_classes)(x)\n",
    "    model = keras.Model(inputs, outputs)\n",
    "    return model\n",
    "\n",
    "\n",
    "def train_top_layer(model):\n",
    "    print('-----Initial Training-----')\n",
    "    # compiles model\n",
    "    model.compile(\n",
    "        optimizer='adam',\n",
    "        loss=keras.losses.SparseCategoricalCrossentropy(from_logits=True),\n",
    "        metrics=['accuracy'],\n",
    "    )\n",
    "\n",
    "    epochs = main_epochs\n",
    "    # model is trained on training data\n",
    "    model.fit(train_ds, epochs=epochs, validation_data=val_ds)\n",
    "    # trained model is returned\n",
    "    return model\n",
    "\n",
    "\n",
    "def fine_tune_model(model):\n",
    "    print('-----Fine Tuning-----')\n",
    "    # unfreezing base layers\n",
    "    base_model.trainable = True\n",
    "\n",
    "    # compiling model with low learning rate\n",
    "    model.compile(\n",
    "        optimizer=keras.optimizers.Adam(1e-5),  # Low learning rate\n",
    "        loss=keras.losses.SparseCategoricalCrossentropy(from_logits=True),\n",
    "        metrics=['accuracy'],\n",
    "    )\n",
    "\n",
    "    # whole model is re-trained on new data\n",
    "    epochs = fine_tune_epochs\n",
    "    model.fit(train_ds, epochs=epochs, validation_data=val_ds)\n",
    "    # trained model is returned\n",
    "    return model\n",
    "\n",
    "\n",
    "def get_aug_test_accuracy(model):\n",
    "    accuracy = model.evaluate(aug_test_ds, verbose=0)\n",
    "    return accuracy[1]"
   ],
   "metadata": {
    "collapsed": false
   }
  },
  {
   "cell_type": "code",
   "execution_count": null,
   "outputs": [],
   "source": [
    "# loading training and validation data\n",
    "train_ds = tf.keras.utils.image_dataset_from_directory(\n",
    "    train_path,\n",
    "    seed=123,\n",
    "    label_mode='int',\n",
    "    image_size=(img_size, img_size),\n",
    "    batch_size=batch_size)\n",
    "\n",
    "val_ds = tf.keras.utils.image_dataset_from_directory(\n",
    "    val_path,\n",
    "    seed=123,\n",
    "    label_mode='int',\n",
    "    image_size=(img_size, img_size),\n",
    "    batch_size=batch_size)\n",
    "\n",
    "class_names = train_ds.class_names\n",
    "num_classes = len(class_names)"
   ],
   "metadata": {
    "collapsed": false
   }
  },
  {
   "cell_type": "code",
   "execution_count": null,
   "outputs": [],
   "source": [
    "# initial pre-preprocessing\n",
    "AUTOTUNE = tf.data.AUTOTUNE\n",
    "train_ds = train_ds.cache().shuffle(1000).prefetch(buffer_size=AUTOTUNE)\n",
    "val_ds = val_ds.cache().prefetch(buffer_size=AUTOTUNE)"
   ],
   "metadata": {
    "collapsed": false
   }
  },
  {
   "cell_type": "code",
   "execution_count": null,
   "outputs": [],
   "source": [
    "base_model = keras.applications.Xception(\n",
    "    weights=\"imagenet\",  # Load weights pre-trained on ImageNet.\n",
    "    input_shape=(img_size, img_size, 3),\n",
    "    include_top=False,\n",
    ")  # Do not include the ImageNet classifier at the top.\n",
    "\n",
    "model = create_model(base_model)\n",
    "model = train_top_layer(model)\n",
    "model = fine_tune_model(model)\n",
    "filename = f\"{dataset}_model.h5\"\n",
    "model.save(filename)"
   ],
   "metadata": {
    "collapsed": false
   }
  },
  {
   "cell_type": "code",
   "execution_count": null,
   "outputs": [],
   "source": [
    "# loading in pre-trained verification model\n",
    "dataset = 'crc'\n",
    "data_path = f\"data/{dataset}/decomposed_split/inception\"\n",
    "aug_test_path = data_path + '/val/'\n",
    "model = tf.keras.models.load_model(f\"{dataset}_model.h5\")\n",
    "# loading in testing set of fully synthesised images\n",
    "aug_test_ds = tf.keras.utils.image_dataset_from_directory(\n",
    "    aug_test_path,\n",
    "    seed=123,\n",
    "    label_mode='int',\n",
    "    image_size=(img_size, img_size),\n",
    "    batch_size=batch_size)\n",
    "# getting classification accuracy\n",
    "accuracy = round(get_aug_test_accuracy(model), 3)\n",
    "print(f\"Augmented Testing Set Accuracy: {accuracy}\")"
   ],
   "metadata": {
    "collapsed": false
   }
  }
 ],
 "metadata": {
  "kernelspec": {
   "display_name": "Python 3",
   "language": "python",
   "name": "python3"
  },
  "language_info": {
   "codemirror_mode": {
    "name": "ipython",
    "version": 2
   },
   "file_extension": ".py",
   "mimetype": "text/x-python",
   "name": "python",
   "nbconvert_exporter": "python",
   "pygments_lexer": "ipython2",
   "version": "2.7.6"
  }
 },
 "nbformat": 4,
 "nbformat_minor": 0
}
