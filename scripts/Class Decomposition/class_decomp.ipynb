{
 "cells": [
  {
   "cell_type": "markdown",
   "id": "7b5dd9ff",
   "metadata": {
    "id": "7b5dd9ff"
   },
   "source": [
    "Imports"
   ]
  },
  {
   "cell_type": "code",
   "execution_count": 1,
   "outputs": [
    {
     "name": "stdout",
     "output_type": "stream",
     "text": [
      "D:\\University\\FYP\\cDCGAN\\venv\\lib\\site-packages\\PIL\\Image.py\n"
     ]
    }
   ],
   "source": [
    "from PIL import Image\n",
    "print(Image.__file__)\n",
    "#import Image\n",
    "#print(Image.__file__)"
   ],
   "metadata": {
    "collapsed": false
   }
  },
  {
   "cell_type": "code",
   "execution_count": 2,
   "id": "383d9576",
   "metadata": {
    "id": "383d9576"
   },
   "outputs": [],
   "source": [
    "import os\n",
    "import numpy as np\n",
    "from collections import Counter\n",
    "from tqdm import tqdm\n",
    "import shutil\n",
    "import sys\n",
    "\n",
    "\n",
    "\n",
    "import tensorflow as tf\n",
    "from keras import layers\n",
    "from keras.models import Model, Sequential\n",
    "from keras_preprocessing.image import load_img\n",
    "from keras.applications.xception import preprocess_input \n",
    "from keras.applications.xception import Xception \n",
    "\n",
    "from sklearn.decomposition import PCA\n",
    "from sklearn.cluster import KMeans\n",
    "from k_means_constrained import KMeansConstrained"
   ]
  },
  {
   "cell_type": "code",
   "execution_count": 3,
   "outputs": [],
   "source": [
    "def blockPrint():\n",
    "    sys.stdout = open(os.devnull, 'w')\n",
    "blockPrint()"
   ],
   "metadata": {
    "collapsed": false
   }
  },
  {
   "cell_type": "markdown",
   "source": [],
   "metadata": {
    "collapsed": false
   }
  },
  {
   "cell_type": "code",
   "execution_count": 4,
   "id": "707bcc2f",
   "metadata": {
    "id": "707bcc2f"
   },
   "outputs": [],
   "source": [
    "ROOT_DIR = \"data/crc7k/norm\"\n",
    "TARGET_DIR = \"data/crc7k/decomposed\"\n",
    "INPUT_SHAPE = (299,299,3)"
   ]
  },
  {
   "cell_type": "code",
   "execution_count": 5,
   "id": "b30c037f",
   "metadata": {
    "id": "b30c037f"
   },
   "outputs": [],
   "source": [
    "def get_model():\n",
    "    model = Xception(weights='imagenet', include_top=True, input_shape=INPUT_SHAPE)\n",
    "#     model = Sequential()\n",
    "#     model.add(base)\n",
    "#     model.add(layers.GlobalAveragePooling2D())\n",
    "#     model.add(layers.Dense(1024, activation='relu')) \n",
    "#     model.add(layers.Dense(8, activation='softmax'))\n",
    "#     model.load_weights(\"xception_weights.h5\")\n",
    "    return model"
   ]
  },
  {
   "cell_type": "code",
   "execution_count": 6,
   "id": "93cb0c6b",
   "metadata": {
    "id": "93cb0c6b"
   },
   "outputs": [],
   "source": [
    "def extract_features(img_path, extractor):\n",
    "    img = load_img(img_path, target_size=(299, 299))\n",
    "    #img = img.resize((299, 299))\n",
    "    img = np.asarray(img)\n",
    "    img = preprocess_input(img)\n",
    "    img = np.expand_dims(img, axis=0)\n",
    "    assert img.shape == (1, 299, 299, 3)\n",
    "    features = extractor.predict(img).reshape(-1)\n",
    "    assert features.shape == (2048,)\n",
    "    return features"
   ]
  },
  {
   "cell_type": "code",
   "execution_count": 7,
   "id": "5c7e2ce0",
   "metadata": {
    "id": "5c7e2ce0"
   },
   "outputs": [],
   "source": [
    "def get_cluster_labels(folder_path, extractor, \n",
    "                  n_components, n_clusters, random_state):\n",
    "    feat_dict = {}\n",
    "    files = os.listdir(folder_path)\n",
    "    for file in tqdm(files):\n",
    "        file_path = os.path.join(folder_path, file)\n",
    "        feat_dict[file] = extract_features(file_path, extractor)\n",
    "    \n",
    "    # recreate list from keys to make sure ordering is parallel\n",
    "    fnames = np.array(list(feat_dict.keys()))\n",
    "    features = np.array(list(feat_dict.values()))\n",
    "    \n",
    "    pca = PCA(n_components=n_components, random_state=random_state)\n",
    "    pca.fit(features)\n",
    "    features_t = pca.transform(features)\n",
    "    \n",
    "    kmeans = KMeans(n_clusters=n_clusters, random_state=random_state)\n",
    "    kmeans.fit(features_t)\n",
    "    labels = kmeans.labels_\n",
    "    \n",
    "#     kmeans_c = KMeansConstrained(n_clusters=2, size_min=250, random_state=123)\n",
    "#     kmeans_c.fit(features_t)\n",
    "#     labels = kmeans_c.labels_\n",
    "    \n",
    "    file_label_dict = dict(zip(fnames, labels))\n",
    "    return file_label_dict"
   ]
  },
  {
   "cell_type": "code",
   "execution_count": 8,
   "id": "a46dc316",
   "metadata": {
    "id": "a46dc316"
   },
   "outputs": [],
   "source": [
    "def write_new_classes(source_folder_path, extractor, \n",
    "                     n_components=0.95, n_clusters=2, random_state=123):\n",
    "    source_folder = source_folder_path.split('\\\\')[-1]\n",
    "    target_folder_path = os.path.join(TARGET_DIR, source_folder)\n",
    "    new_folders = [f'{target_folder_path}_CLUSTER_{i}' \n",
    "                   for i in range(n_clusters)]\n",
    "    for folder in new_folders:\n",
    "        if not os.path.exists(folder):\n",
    "            os.mkdir(folder)\n",
    "    cluster_labels = get_cluster_labels(\n",
    "        source_folder_path, extractor, n_components, n_clusters, random_state)\n",
    "    for fname in cluster_labels.keys():\n",
    "        label = cluster_labels[fname]\n",
    "        src = os.path.join(source_folder_path, fname)\n",
    "        dst = os.path.join(new_folders[label], fname)\n",
    "        \n",
    "        shutil.copyfile(src, dst)"
   ]
  },
  {
   "cell_type": "code",
   "execution_count": 9,
   "id": "f921a9b8",
   "metadata": {
    "id": "f921a9b8"
   },
   "outputs": [],
   "source": [
    "def main():\n",
    "    model = get_model()\n",
    "    extractor = Model(inputs=model.inputs, outputs=model.layers[-2].output)\n",
    "    extractor.summary()\n",
    "    if not os.path.exists(TARGET_DIR):\n",
    "        os.mkdir(TARGET_DIR)\n",
    "    for folder in os.listdir(ROOT_DIR):\n",
    "        folder_path = os.path.join(ROOT_DIR, folder)\n",
    "        #print(f\"Working folder {folder}\")\n",
    "        write_new_classes(folder_path, extractor)\n",
    "    print(\"Finished\")"
   ]
  },
  {
   "cell_type": "code",
   "execution_count": 10,
   "outputs": [
    {
     "name": "stderr",
     "output_type": "stream",
     "text": [
      "100%|██████████| 1338/1338 [01:16<00:00, 17.45it/s]\n",
      "D:\\University\\FYP\\cDCGAN\\venv\\lib\\site-packages\\sklearn\\cluster\\_kmeans.py:870: FutureWarning: The default value of `n_init` will change from 10 to 'auto' in 1.4. Set the value of `n_init` explicitly to suppress the warning\n",
      "  warnings.warn(\n",
      "100%|██████████| 847/847 [00:46<00:00, 18.25it/s]\n",
      "D:\\University\\FYP\\cDCGAN\\venv\\lib\\site-packages\\sklearn\\cluster\\_kmeans.py:870: FutureWarning: The default value of `n_init` will change from 10 to 'auto' in 1.4. Set the value of `n_init` explicitly to suppress the warning\n",
      "  warnings.warn(\n",
      "100%|██████████| 339/339 [00:18<00:00, 17.95it/s]\n",
      "D:\\University\\FYP\\cDCGAN\\venv\\lib\\site-packages\\sklearn\\cluster\\_kmeans.py:870: FutureWarning: The default value of `n_init` will change from 10 to 'auto' in 1.4. Set the value of `n_init` explicitly to suppress the warning\n",
      "  warnings.warn(\n",
      "100%|██████████| 634/634 [00:35<00:00, 17.86it/s]\n",
      "D:\\University\\FYP\\cDCGAN\\venv\\lib\\site-packages\\sklearn\\cluster\\_kmeans.py:870: FutureWarning: The default value of `n_init` will change from 10 to 'auto' in 1.4. Set the value of `n_init` explicitly to suppress the warning\n",
      "  warnings.warn(\n",
      "100%|██████████| 1035/1035 [00:56<00:00, 18.41it/s]\n",
      "D:\\University\\FYP\\cDCGAN\\venv\\lib\\site-packages\\sklearn\\cluster\\_kmeans.py:870: FutureWarning: The default value of `n_init` will change from 10 to 'auto' in 1.4. Set the value of `n_init` explicitly to suppress the warning\n",
      "  warnings.warn(\n",
      "100%|██████████| 592/592 [00:32<00:00, 18.41it/s]\n",
      "D:\\University\\FYP\\cDCGAN\\venv\\lib\\site-packages\\sklearn\\cluster\\_kmeans.py:870: FutureWarning: The default value of `n_init` will change from 10 to 'auto' in 1.4. Set the value of `n_init` explicitly to suppress the warning\n",
      "  warnings.warn(\n",
      "100%|██████████| 741/741 [00:37<00:00, 19.73it/s]\n",
      "D:\\University\\FYP\\cDCGAN\\venv\\lib\\site-packages\\sklearn\\cluster\\_kmeans.py:870: FutureWarning: The default value of `n_init` will change from 10 to 'auto' in 1.4. Set the value of `n_init` explicitly to suppress the warning\n",
      "  warnings.warn(\n",
      "100%|██████████| 421/421 [00:23<00:00, 17.72it/s]\n",
      "D:\\University\\FYP\\cDCGAN\\venv\\lib\\site-packages\\sklearn\\cluster\\_kmeans.py:870: FutureWarning: The default value of `n_init` will change from 10 to 'auto' in 1.4. Set the value of `n_init` explicitly to suppress the warning\n",
      "  warnings.warn(\n",
      "100%|██████████| 1233/1233 [01:08<00:00, 18.10it/s]\n",
      "D:\\University\\FYP\\cDCGAN\\venv\\lib\\site-packages\\sklearn\\cluster\\_kmeans.py:870: FutureWarning: The default value of `n_init` will change from 10 to 'auto' in 1.4. Set the value of `n_init` explicitly to suppress the warning\n",
      "  warnings.warn(\n"
     ]
    }
   ],
   "source": [
    "main()"
   ],
   "metadata": {
    "collapsed": false
   }
  },
  {
   "cell_type": "code",
   "execution_count": 11,
   "id": "e6c47a82",
   "metadata": {
    "scrolled": true,
    "id": "e6c47a82",
    "outputId": "e82716df-4563-4500-f1b2-7212e923d3be"
   },
   "outputs": [],
   "source": [
    "for folder in os.listdir(TARGET_DIR):\n",
    "    folder_path = os.path.join(TARGET_DIR, folder)\n",
    "    num_files = len(os.listdir(folder_path))\n",
    "    print(folder, num_files)"
   ]
  },
  {
   "cell_type": "code",
   "execution_count": 11,
   "id": "c4de8ac0",
   "metadata": {
    "id": "c4de8ac0"
   },
   "outputs": [],
   "source": []
  }
 ],
 "metadata": {
  "kernelspec": {
   "display_name": "Python 3 (ipykernel)",
   "language": "python",
   "name": "python3"
  },
  "language_info": {
   "codemirror_mode": {
    "name": "ipython",
    "version": 3
   },
   "file_extension": ".py",
   "mimetype": "text/x-python",
   "name": "python",
   "nbconvert_exporter": "python",
   "pygments_lexer": "ipython3",
   "version": "3.9.12"
  },
  "colab": {
   "name": "class_decomp.ipynb",
   "provenance": [],
   "collapsed_sections": []
  }
 },
 "nbformat": 4,
 "nbformat_minor": 5
}
